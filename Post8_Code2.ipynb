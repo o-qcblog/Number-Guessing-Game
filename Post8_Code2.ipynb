{
 "cells": [
  {
   "cell_type": "markdown",
   "metadata": {},
   "source": [
    "# The Guess Blocker Challenge"
   ]
  },
  {
   "cell_type": "code",
   "execution_count": 2,
   "metadata": {},
   "outputs": [],
   "source": [
    "import random\n",
    "import math"
   ]
  },
  {
   "cell_type": "code",
   "execution_count": null,
   "metadata": {},
   "outputs": [],
   "source": [
    "count=0\n",
    "question=' '\n",
    "guess= random.randint(0,10000)\n",
    "print(\"Is the number\", guess, \"? Yes(Y) or No(N)?\")\n",
    "correct=input()\n",
    "correct= correct.strip().lower()\n",
    "if correct == \"y\":\n",
    "    print(\"I could very easily guess your number!\")\n",
    "start=0\n",
    "stop=10000\n",
    "\n",
    "while True:\n",
    "\n",
    "    if (stop-start) <= 10:\n",
    "        r= random.randint(1,3)\n",
    "        if r== 1:\n",
    "            question=\">\"\n",
    "        elif r== 2:\n",
    "            question=\"<\"\n",
    "        else:\n",
    "            question=\"=\"\n",
    "    else:\n",
    "        r= random.randint(1,2)\n",
    "        if r== 1:\n",
    "            question=\">\"\n",
    "        else:\n",
    "            question=\"<\"\n",
    "\n",
    "\n",
    "    print(\"Is the number \",question, guess,\" ?\")\n",
    "    correct=input()\n",
    "    correct= correct.strip().lower()\n",
    "    count+=1\n",
    "    prev_guess=guess\n",
    "\n",
    "    if correct not in ['y','n']:\n",
    "        print(\"Invalid entry. Please re-enter.\")\n",
    "        count -= 1\n",
    "        continue\n",
    "\n",
    "    if question == '=':\n",
    "        if correct == 'y':\n",
    "            if count < math.log2(10000):\n",
    "                print(\"I could easily guess your number in\", count, \"steps!\")\n",
    "                break\n",
    "            else:\n",
    "                print(\"Well Done! It took me really long,\", count, \"steps, to guess it :(\")\n",
    "                break\n",
    "\n",
    "    elif question == '>':\n",
    "        if correct == 'y':\n",
    "            start=guess\n",
    "        else:\n",
    "            stop= guess\n",
    "    \n",
    "    elif question == '<':\n",
    "        if correct == 'y':\n",
    "            stop= guess\n",
    "        else:\n",
    "            start=guess\n",
    "    \n",
    "    guess= random.randint(start,stop)\n",
    "\n",
    "    while prev_guess != guess:\n",
    "        guess= random.randint(start,stop)\n",
    "\n"
   ]
  }
 ],
 "metadata": {
  "kernelspec": {
   "display_name": "Python 3",
   "language": "python",
   "name": "python3"
  },
  "language_info": {
   "codemirror_mode": {
    "name": "ipython",
    "version": 3
   },
   "file_extension": ".py",
   "mimetype": "text/x-python",
   "name": "python",
   "nbconvert_exporter": "python",
   "pygments_lexer": "ipython3",
   "version": "3.10.2"
  }
 },
 "nbformat": 4,
 "nbformat_minor": 2
}
