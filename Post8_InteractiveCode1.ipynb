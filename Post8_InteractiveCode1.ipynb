{
 "cells": [
  {
   "cell_type": "code",
   "execution_count": 1,
   "metadata": {},
   "outputs": [
    {
     "data": {
      "application/vnd.jupyter.widget-view+json": {
       "model_id": "3c022eba24294dccbe71393ceed24ab3",
       "version_major": 2,
       "version_minor": 0
      },
      "text/plain": [
       "HTML(value='<b>Guess the number game!</b> <br> Enter your guess in the format: <code>&lt; 500</code>, <code>&g…"
      ]
     },
     "metadata": {},
     "output_type": "display_data"
    },
    {
     "data": {
      "application/vnd.jupyter.widget-view+json": {
       "model_id": "b259fec74cf341b98588c47099058f00",
       "version_major": 2,
       "version_minor": 0
      },
      "text/plain": [
       "Text(value='', placeholder='Enter your guess')"
      ]
     },
     "metadata": {},
     "output_type": "display_data"
    },
    {
     "data": {
      "application/vnd.jupyter.widget-view+json": {
       "model_id": "7d6a08e0dc194072916ad072af270674",
       "version_major": 2,
       "version_minor": 0
      },
      "text/plain": [
       "Button(description='Submit', style=ButtonStyle())"
      ]
     },
     "metadata": {},
     "output_type": "display_data"
    },
    {
     "data": {
      "application/vnd.jupyter.widget-view+json": {
       "model_id": "c5d1c455c9894b959abcd8fc4923bf5e",
       "version_major": 2,
       "version_minor": 0
      },
      "text/plain": [
       "Output()"
      ]
     },
     "metadata": {},
     "output_type": "display_data"
    }
   ],
   "source": [
    "import random\n",
    "import ipywidgets as widgets\n",
    "from IPython.display import display\n",
    "\n",
    "# Generate a random number\n",
    "number = random.randint(1, 10000)\n",
    "count = 0\n",
    "\n",
    "# Create widgets\n",
    "instruction = widgets.HTML(value=\"<b>Guess the number game!</b> <br> Enter your guess in the format: <code>&lt; 500</code>, <code>&gt; 600</code>, or <code>= 700</code>\")\n",
    "text_input = widgets.Text(placeholder=\"Enter your guess\")\n",
    "output = widgets.Output()\n",
    "submit_button = widgets.Button(description=\"Submit\")\n",
    "\n",
    "# Define callback function for the button\n",
    "def on_submit(change):\n",
    "    global count\n",
    "    guess_data = text_input.value.strip()\n",
    "    text_input.value = \"\"  # Clear input box\n",
    "    \n",
    "    if not guess_data:\n",
    "        return  # Ignore empty input\n",
    "    \n",
    "    with output:\n",
    "        try:\n",
    "            question = guess_data[0]\n",
    "            guess = int(guess_data[1:].strip())\n",
    "            count += 1\n",
    "            \n",
    "            if question == '=':\n",
    "                if guess == number:\n",
    "                    print(f\"🎉 Well done! You guessed it right in {count} steps!\")\n",
    "                    submit_button.disabled = True  # Disable further inputs\n",
    "                else:\n",
    "                    print(\"❌ It was a wrong guess :(\")\n",
    "            \n",
    "            elif question == '>':\n",
    "                if number >= guess:\n",
    "                    print(f\"✅ Yes! The number is greater than {guess}\")\n",
    "                else:\n",
    "                    print(f\"❌ No! The number is not greater than {guess}\")\n",
    "            \n",
    "            elif question == '<':\n",
    "                if number <= guess:\n",
    "                    print(f\"✅ Yes! The number is lesser than {guess}\")\n",
    "                else:\n",
    "                    print(f\"❌ No! The number is not lesser than {guess}\")\n",
    "            \n",
    "            else:\n",
    "                print(\"⚠️ Invalid entry. Use <, >, or = followed by a number. Example: >40\")\n",
    "        \n",
    "        except (ValueError, IndexError):\n",
    "            print(\"⚠️ Invalid format. Make sure your input follows the format <40, >50, or =60.\")\n",
                 count -= 1;
    "\n",
    "# Connect the button to the callback\n",
    "submit_button.on_click(on_submit)\n",
    "\n",
    "# Display the widgets\n",
    "display(instruction, text_input, submit_button, output)"
   ]
  }
 ],
 "metadata": {
  "kernelspec": {
   "display_name": "Python 3",
   "language": "python",
   "name": "python3"
  },
  "language_info": {
   "codemirror_mode": {
    "name": "ipython",
    "version": 3
   },
   "file_extension": ".py",
   "mimetype": "text/x-python",
   "name": "python",
   "nbconvert_exporter": "python",
   "pygments_lexer": "ipython3",
   "version": "3.10.2"
  }
 },
 "nbformat": 4,
 "nbformat_minor": 2
}
