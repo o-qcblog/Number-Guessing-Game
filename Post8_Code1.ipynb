{
 "cells": [
  {
   "cell_type": "markdown",
   "metadata": {},
   "source": [
    "# The Number Guessing Duel\n"
   ]
  },
  {
   "cell_type": "code",
   "execution_count": 1,
   "metadata": {},
   "outputs": [],
   "source": [
    "import random"
   ]
  },
  {
   "cell_type": "code",
   "execution_count": 2,
   "metadata": {},
   "outputs": [],
   "source": [
    "number = random.randint(1,100)"
   ]
  },
  {
   "cell_type": "code",
   "execution_count": null,
   "metadata": {},
   "outputs": [],
   "source": [
    "count=0\n",
    "question=' '\n",
    "guess=0\n",
    "while guess != number:\n",
    "    question_guess=input(\"Question: Is the number greater than (>), lesser than (<) or equal to (=):\")\n",
    "    question_guess= question_guess.strip()\n",
    "    question=question_guess[0]\n",
    "    guess=int(question_guess[1:].strip())\n",
    "    count+=1\n",
    "    if question == '=':\n",
    "        if guess == number:\n",
    "            print(\"Well done! You guessed it right in \", count, \"steps!\")\n",
    "            break\n",
    "        else:\n",
    "            print(\"It was a wrong guess :(\")\n",
    "\n",
    "    elif question == '>':\n",
    "        if number >= guess:\n",
    "            print(\"Yes! The number is greater than \", guess)\n",
    "        else:\n",
    "            print(\"No! The number is not greater than \", guess)\n",
    "    \n",
    "    elif question == '<':\n",
    "        if number <= guess:\n",
    "            print(\"Yes! The number is lesser than \", guess)\n",
    "        else:\n",
    "            print(\"No! The number is not lesser than \", guess)\n",
    "\n",
    "    else:\n",
    "        print(\"Invalid entry. Try entering again. Example entry: >40\")\n",
    "\n",
    "    "
   ]
  }
 ],
 "metadata": {
  "kernelspec": {
   "display_name": "Python 3",
   "language": "python",
   "name": "python3"
  },
  "language_info": {
   "codemirror_mode": {
    "name": "ipython",
    "version": 3
   },
   "file_extension": ".py",
   "mimetype": "text/x-python",
   "name": "python",
   "nbconvert_exporter": "python",
   "pygments_lexer": "ipython3",
   "version": "3.10.2"
  }
 },
 "nbformat": 4,
 "nbformat_minor": 2
}
